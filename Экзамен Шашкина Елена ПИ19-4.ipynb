{
 "cells": [
  {
   "cell_type": "code",
   "execution_count": 3,
   "metadata": {},
   "outputs": [],
   "source": [
    "import numpy as np\n",
    "from cvxopt.modeling import variable, op\n",
    "from scipy.optimize import linprog\n",
    "import warnings \n",
    "warnings.filterwarnings(\"ignore\")\n",
    "from IPython.display import Image\n",
    "from scipy.optimize import linprog\n",
    "import numpy as np\n",
    "import matplotlib.pyplot as plt\n",
    "from pulp import LpProblem, LpMinimize, LpVariable, LpMaximize, LpStatus, LpInteger"
   ]
  },
  {
   "cell_type": "markdown",
   "metadata": {},
   "source": [
    "# Задание 1. "
   ]
  },
  {
   "cell_type": "markdown",
   "metadata": {},
   "source": [
    "На основе: https://github.com/lena346/mat/blob/main/Shashkina_Elena_PI19-4_var_24_Zadanie_7_Transportnaya_zadacha%20(3).ipynb\n",
    "\n"
   ]
  },
  {
   "cell_type": "code",
   "execution_count": 4,
   "metadata": {},
   "outputs": [],
   "source": [
    "# Запасы\n",
    "a = np.array([60, 130, 90]) \n",
    "#Потребности\n",
    "b = np.array([30, 80, 60, 110]) \n",
    "# Матрица тарифов\n",
    "C = np.array([[10000,8, 15, 4],\n",
    "              [9, 15, 2, 10000],\n",
    "              [6, 12, 7, 1]])  "
   ]
  },
  {
   "cell_type": "code",
   "execution_count": 5,
   "metadata": {},
   "outputs": [],
   "source": [
    "# Функция возвращает матрицу системы ограничений\n",
    "def ogran(a, b):\n",
    "    m = len(a)\n",
    "    n = len(b)\n",
    "    h = np.diag(np.ones(n))\n",
    "    v = np.zeros((m, n))\n",
    "    v[0] = 1\n",
    "    for i in range(1, m):\n",
    "        h = np.hstack((h, np.diag(np.ones(n))))\n",
    "        k = np.zeros((m, n))\n",
    "        k[i]=1\n",
    "        v = np.hstack((v, k))\n",
    "    return np.vstack((h, v)).astype(int), np.hstack((b,a))\n",
    "\n",
    "# Метод потенциалов\n",
    "def m_pot(a, b, c):\n",
    "    # Проверяем замкнутостm:\n",
    "    if a.sum() > b.sum():\n",
    "        b = np.hstack((b, [a.sum() - b.sum()]))\n",
    "        c = np.hstack((c, np.zeros(len(a)).reshape(-1, 1)))\n",
    "    elif a.sum() < b.sum():\n",
    "        a = np.hstack((a, [b.sum() - a.sum()]))\n",
    "        c = np.vstack((c, np.zeros(len(b))))\n",
    "        \n",
    "    m = len(a)\n",
    "    n = len(b)\n",
    "    A_eq, b_eq = ogran(a, b)\n",
    "    res = linprog(c.reshape(1, -1), A_eq=A_eq, b_eq=b_eq, bounds=(0, None), method='simplex')\n",
    "    return res.x.astype(int).reshape(m, n), res.fun.astype(int) "
   ]
  },
  {
   "cell_type": "code",
   "execution_count": 56,
   "metadata": {},
   "outputs": [
    {
     "name": "stdout",
     "output_type": "stream",
     "text": [
      "Оптимальный план перевозки груза: \n",
      " [[ 0 40  0 20]\n",
      " [30 40 60  0]\n",
      " [ 0  0  0 90]]\n",
      "Оптимальная стоимость перевозки:  1480\n",
      "План Х не оптимальный\n"
     ]
    }
   ],
   "source": [
    "x2, opt = m_pot(a, b, C)\n",
    "print('Оптимальный план перевозки груза: \\n', x2)\n",
    "print('Оптимальная стоимость перевозки: ', opt)\n",
    "print('План Х не оптимальный')"
   ]
  },
  {
   "cell_type": "markdown",
   "metadata": {},
   "source": [
    "# Задание 2."
   ]
  },
  {
   "cell_type": "markdown",
   "metadata": {},
   "source": [
    "**Линейное программирование**"
   ]
  },
  {
   "cell_type": "markdown",
   "metadata": {},
   "source": [
    "На основе: https://github.com/lena346/mat/blob/main/Шашкина%20Елена%20ПИ19-4%20Задание%208%20по%20ТЗ%20Game.ipynb \n",
    "\n",
    "Пункт 1"
   ]
  },
  {
   "cell_type": "code",
   "execution_count": 50,
   "metadata": {},
   "outputs": [],
   "source": [
    "def antagonistic_game(A_strtg, B_strtg, matrix):\n",
    "    \n",
    "    min_A = matrix.min(axis=1)\n",
    "    min_B = matrix.max(axis=0)\n",
    "    \n",
    "    # максмин (выбрали наихудшее значение в каждой строке и из них нашли максимальное) - индекс максимального выигрыша игрока A\n",
    "    opt_A_strtg = min_A.argmax()\n",
    "    # минимакс (выбрали наилучшее значение в каждом столбце и из них нашли минимальное) - максимального проигрыша игрока B\n",
    "    opt_B_strtg = min_B.argmin() \n",
    "    \n",
    "    c = -np.array([1, 1])\n",
    "    A_ub = matrix\n",
    "    b_ub = np.array([1, 1, 1])\n",
    "    bounds = [[0, None], [0, None]]\n",
    "\n",
    "    m = linprog(c=c, A_ub=A_ub, b_ub=b_ub, bounds=bounds, method= \"revised simplex\")\n",
    "    \n",
    "    print(' a) Оптимальная чистая стратегия для игрока А: №' + str(opt_A_strtg + 1) + ' - ' + str(B_strtg[opt_A_strtg]) + '\\n', \n",
    "          'б) Цена игры для игрока А при выборе чистой оптимальной стратегии (максимальный выигрыш):  ' + str(min_A[opt_A_strtg]) + '\\n',\n",
    "          'в) Стратегия для игрока Б при оптимальной стратегии А: №' + str(opt_B_strtg + 1) + ' - ' + str(B_strtg[opt_B_strtg]) + '\\n',\n",
    "          'г) Цена игры для игрока Б при оптимальной стратегии А (максимальный проигрыш): ' + str(min_B[opt_B_strtg]) + '\\n', \n",
    "          'д) Таблица смешанных стратегий для игрока А: ' + str(m.x / -m.fun) + '\\n', \n",
    "          'е) Цена игры для игрока А при выборе смешанной оптимальной стратегии: ' + str(1 / -m.fun) + '\\n')"
   ]
  },
  {
   "cell_type": "code",
   "execution_count": 52,
   "metadata": {},
   "outputs": [
    {
     "name": "stdout",
     "output_type": "stream",
     "text": [
      " a) Оптимальная чистая стратегия для игрока А: №2 - A2\n",
      " б) Цена игры для игрока А при выборе чистой оптимальной стратегии (максимальный выигрыш):  8\n",
      " в) Стратегия для игрока Б при оптимальной стратегии А: №2 - A2\n",
      " г) Цена игры для игрока Б при оптимальной стратегии А (максимальный проигрыш): 9\n",
      " д) Таблица смешанных стратегий для игрока А: [0.5 0.5]\n",
      " е) Цена игры для игрока А при выборе смешанной оптимальной стратегии: 8.5\n",
      "\n"
     ]
    }
   ],
   "source": [
    "antagonistic_game(['A1','A2', 'A3'], ['A1', 'A2'], np.array([\n",
    "    [10, 7],\n",
    "    [8, 9],\n",
    "    [12, 2]\n",
    "]))"
   ]
  },
  {
   "cell_type": "markdown",
   "metadata": {},
   "source": [
    "**Графический метод**"
   ]
  },
  {
   "cell_type": "markdown",
   "metadata": {},
   "source": [
    "y = 3 * x + 7\n",
    "\n",
    "y = -x + 9\n",
    "\n",
    "y= 10*x +2"
   ]
  },
  {
   "cell_type": "code",
   "execution_count": 23,
   "metadata": {},
   "outputs": [
    {
     "data": {
      "image/png": "[encoded data removed]",
      "text/plain": [
       "<Figure size 432x288 with 1 Axes>"
      ]
     },
     "metadata": {
      "needs_background": "light"
     },
     "output_type": "display_data"
    }
   ],
   "source": [
    "from matplotlib import pyplot as plt\n",
    "\n",
    "x,y = np.meshgrid(d,d)\n",
    "  \n",
    "ax = plt.subplots()\n",
    "\n",
    "plt.plot([7,10]) \n",
    "plt.plot([9,8]) \n",
    "plt.plot([2,12]) \n",
    "\n",
    "y1 = 3 * x + 7\n",
    "\n",
    "y2 = -x + 9\n",
    "\n",
    "y3 = 10*x +2\n",
    "\n",
    "\n",
    "#точка\n",
    "plt.plot(0.5, 8.5, 'ko')\n",
    "plt.text(0.4, 9.6, f'M*({0.5}, {8.5})')\n",
    "\n",
    "#показ графа\n",
    "plt.show()"
   ]
  },
  {
   "cell_type": "markdown",
   "metadata": {},
   "source": [
    "точка пересечения зелёной и синей\n",
    "\n",
    "3 * x + 7 = 10*x +2\n",
    "\n",
    "7 * x = 5\n",
    "\n",
    "\n",
    "\n",
    "x = 5/7\n",
    "\n",
    "y = 64/7 = 9 1/7"
   ]
  },
  {
   "cell_type": "markdown",
   "metadata": {},
   "source": [
    "точка пересечения оранжевой и синей\n",
    "\n",
    "3 * x + 7 = -x + 9\n",
    "\n",
    "3* x + x - 2 = 0\n",
    "\n",
    "4 * x = 2\n",
    "\n",
    "\n",
    "\n",
    "x = 1/2\n",
    "\n",
    "y = 8,5\n",
    "\n",
    "нам нужно взять минимальную - это эта точка"
   ]
  },
  {
   "cell_type": "code",
   "execution_count": null,
   "metadata": {},
   "outputs": [],
   "source": []
  }
 ],
 "metadata": {
  "kernelspec": {
   "display_name": "Python 3",
   "language": "python",
   "name": "python3"
  },
  "language_info": {
   "codemirror_mode": {
    "name": "ipython",
    "version": 3
   },
   "file_extension": ".py",
   "mimetype": "text/x-python",
   "name": "python",
   "nbconvert_exporter": "python",
   "pygments_lexer": "ipython3",
   "version": "3.8.5"
  }
 },
 "nbformat": 4,
 "nbformat_minor": 4
}
